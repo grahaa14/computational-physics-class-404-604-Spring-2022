{
 "cells": [
  {
   "cell_type": "code",
   "execution_count": 1,
   "metadata": {},
   "outputs": [],
   "source": [
    "#Graduate student:\n",
    "# Write your own Runge-Kutta scheme to calculate the orbit of two equal mass binary.\n",
    "# The mass of each binary makes GM_{i}=1, (i is 1 or 2). The two binary stars are\n",
    "# seperated by a distance of 1 initially. Initialize the binary velocity so that\n",
    "# each binary star will have an eccentricity of 0. Evolve this system to 100\n",
    "# binary orbits, and plot their orbits in the x-y plane. "
   ]
  },
  {
   "cell_type": "code",
   "execution_count": 3,
   "metadata": {},
   "outputs": [
    {
     "ename": "AttributeError",
     "evalue": "module 'matplotlib.pyplot' has no attribute 'set_aspect'",
     "output_type": "error",
     "traceback": [
      "\u001b[1;31m---------------------------------------------------------------------------\u001b[0m",
      "\u001b[1;31mAttributeError\u001b[0m                            Traceback (most recent call last)",
      "\u001b[1;32m<ipython-input-3-5a61774b80bf>\u001b[0m in \u001b[0;36m<module>\u001b[1;34m\u001b[0m\n\u001b[0;32m     59\u001b[0m \u001b[0mplt\u001b[0m\u001b[1;33m.\u001b[0m\u001b[0mplot\u001b[0m\u001b[1;33m(\u001b[0m\u001b[0mx2arr\u001b[0m\u001b[1;33m,\u001b[0m \u001b[0my2arr\u001b[0m\u001b[1;33m)\u001b[0m\u001b[1;33m\u001b[0m\u001b[1;33m\u001b[0m\u001b[0m\n\u001b[0;32m     60\u001b[0m \u001b[0mplt\u001b[0m\u001b[1;33m.\u001b[0m\u001b[0mtitle\u001b[0m\u001b[1;33m(\u001b[0m\u001b[1;34m\"Binary Orbits\"\u001b[0m\u001b[1;33m)\u001b[0m\u001b[1;33m\u001b[0m\u001b[1;33m\u001b[0m\u001b[0m\n\u001b[1;32m---> 61\u001b[1;33m \u001b[0mplt\u001b[0m\u001b[1;33m.\u001b[0m\u001b[0mset_aspect\u001b[0m\u001b[1;33m(\u001b[0m\u001b[1;34m\"equal\"\u001b[0m\u001b[1;33m)\u001b[0m\u001b[1;33m\u001b[0m\u001b[1;33m\u001b[0m\u001b[0m\n\u001b[0m\u001b[0;32m     62\u001b[0m \u001b[0mplt\u001b[0m\u001b[1;33m.\u001b[0m\u001b[0mshow\u001b[0m\u001b[1;33m(\u001b[0m\u001b[1;33m)\u001b[0m\u001b[1;33m\u001b[0m\u001b[1;33m\u001b[0m\u001b[0m\n",
      "\u001b[1;31mAttributeError\u001b[0m: module 'matplotlib.pyplot' has no attribute 'set_aspect'"
     ]
    },
    {
     "data": {
      "image/png": "[encoded data removed]",
      "text/plain": [
       "<Figure size 432x288 with 1 Axes>"
      ]
     },
     "metadata": {
      "needs_background": "light"
     },
     "output_type": "display_data"
    }
   ],
   "source": [
    "import matplotlib.pyplot as plt\n",
    "import numpy as np\n",
    "\n",
    "def f(t, y): #equation function\n",
    "    #FIXME: UPDATE FOR OUR PROBLEM\n",
    "    f=np.zeros((2,4))\n",
    "    r1=np.sqrt(y[0][0]**2+y[0][2]**2) #distance of star1 from center of mass\n",
    "    r2=np.sqrt(y[1][0]**2+y[1][2]**2) #distance of star1 from center of mass\n",
    "    f[0][0]=y[0][1]\n",
    "    f[0][1]=-G*M/r1/r1/r1*y[0][0]\n",
    "    f[0][2]=y[0][3]\n",
    "    f[0][3]=-G*M/r1/r1/r1*y[0][2]\n",
    "    f[1][0]=y[1][1]\n",
    "    f[1][1]=-G*M/r2/r2/r2*y[1][0]\n",
    "    f[1][2]=y[1][3]\n",
    "    f[1][3]=-G*M/r2/r2/r2*y[1][2]\n",
    "    return f\n",
    "    \n",
    "def rk4(t, h, y): #Runge-Kutta rule\n",
    "    k1 = np.zeros((2,4))\n",
    "    k2 = np.zeros((2,4))\n",
    "    k3 = np.zeros((2,4))\n",
    "    k4 = np.zeros((2,4))\n",
    "    k1=h*f(t,y)\n",
    "    k2=h*f(t+0.5*h,y+0.5*k1)\n",
    "    k3=h*f(t+0.5*h,y+0.5*k2)\n",
    "    k4=h*f(t+h,y+k3)\n",
    "    y+=(1/6)*(k1+2*k2+2*k3+k4)\n",
    "    return y\n",
    "\n",
    "#Set up our system - equal mass binary stars\n",
    "G=1.     #gravitational constant\n",
    "M=1.     #mass of stars \n",
    "period=2*np.pi  #time of 1 orbit\n",
    "tend=100*period #evolve system for 100 binary orbits\n",
    "h=0.01   #dt for system\n",
    "y=[[0.5,0.,0.,np.sqrt(2)],[-0.5,0.,0.,-np.sqrt(2)]] # [y[0]=x, y[1]=v_{x}, y[2]=y, y[3]=v_{y}]x2 for each star\n",
    "t=0      #initial time\n",
    "\n",
    "#Set up array to record (x,y) values for both stars\n",
    "x1arr = []\n",
    "y1arr = []\n",
    "x2arr = []\n",
    "y2arr = []\n",
    "\n",
    "while(t<tend):\n",
    "    if((t+h)>tend):\n",
    "        h=tend-t\n",
    "    y = rk4(t,h,y)\n",
    "    x1arr=np.append(x1arr,y[0][0])\n",
    "    y1arr=np.append(y1arr,y[0][2])\n",
    "    x2arr=np.append(x2arr,y[1][0])\n",
    "    y2arr=np.append(y2arr,y[1][2])\n",
    "    t = t+h\n",
    "\n",
    "    \n",
    "#Plot orbits\n",
    "plt.plot(x1arr,y1arr)\n",
    "plt.plot(x2arr, y2arr)\n",
    "plt.title(\"Binary Orbits\")\n",
    "plt.set_aspect(\"equal\")\n",
    "plt.show()"
   ]
  },
  {
   "cell_type": "code",
   "execution_count": null,
   "metadata": {},
   "outputs": [],
   "source": []
  }
 ],
 "metadata": {
  "kernelspec": {
   "display_name": "Python 3",
   "language": "python",
   "name": "python3"
  },
  "language_info": {
   "codemirror_mode": {
    "name": "ipython",
    "version": 3
   },
   "file_extension": ".py",
   "mimetype": "text/x-python",
   "name": "python",
   "nbconvert_exporter": "python",
   "pygments_lexer": "ipython3",
   "version": "3.8.5"
  }
 },
 "nbformat": 4,
 "nbformat_minor": 4
}
