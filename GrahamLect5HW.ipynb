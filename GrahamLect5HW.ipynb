{
 "cells": [
  {
   "cell_type": "markdown",
   "metadata": {},
   "source": [
    "# Homework: using Newton-Raphson method to solve above equation arrays\n",
    "# Hint: first you need to derive the partical derivative of the equation arrays. You can do it either \n",
    "# analytically by hand or numerically using method we learned in the last lecture."
   ]
  },
  {
   "cell_type": "markdown",
   "metadata": {
    "tags": []
   },
   "source": [
    "## Newton-Raphson for equations\n",
    "Find the solution for  \n",
    "\\begin{eqnarray}\n",
    "x_{1}^2+x_{1}x_{2}=10\\\\\n",
    "x_{2}+3x_{1}x_{2}^2=57\n",
    "\\end{eqnarray}"
   ]
  },
  {
   "cell_type": "code",
   "execution_count": 2,
   "metadata": {},
   "outputs": [
    {
     "data": {
      "text/plain": [
       "Text(0, 0.5, 'x2')"
      ]
     },
     "execution_count": 2,
     "metadata": {},
     "output_type": "execute_result"
    },
    {
     "data": {
      "image/png": "[encoded data removed]",
      "text/plain": [
       "<Figure size 432x288 with 1 Axes>"
      ]
     },
     "metadata": {
      "needs_background": "light"
     },
     "output_type": "display_data"
    }
   ],
   "source": [
    "## Always a good idea to draw the function first\n",
    "import matplotlib.pyplot as plt\n",
    "import numpy as np\n",
    "\n",
    "def f1(x):\n",
    "    return (10.-x*x)/x\n",
    "\n",
    "def f2(x):\n",
    "    return (-1+np.sqrt(1.+4.*3.*x*57))/6./x\n",
    "\n",
    "## Draw graphics to roughly determine x1 and x2\n",
    "xarr = np.arange(0.01, 3., .01)\n",
    "y1 = f1(xarr)\n",
    "y2 = f2(xarr)\n",
    "plt.plot(xarr, y1)\n",
    "plt.plot(xarr, y2)\n",
    "plt.ylim(0, 10.0)\n",
    "plt.xlabel(\"x1\")\n",
    "plt.ylabel(\"x2\")"
   ]
  },
  {
   "cell_type": "code",
   "execution_count": 5,
   "metadata": {},
   "outputs": [
    {
     "name": "stdout",
     "output_type": "stream",
     "text": [
      "Current guess: i = 0  \t x1 = 2.2  \t x2 = 3.167561761546724\n",
      "Current guess: i = 1  \t x1 = 2.0053358460917847  \t x2 = 3.0059142183688987\n",
      "Current guess: i = 2  \t x1 = 2.000003240331006  \t x2 = 3.0000071639633323\n",
      "Current guess: i = 3  \t x1 = 1.9999999999990041  \t x2 = 3.0000000000105147\n",
      "Root is as x1 =  1.9999999999990041  and x2 =  3.0000000000105147\n"
     ]
    }
   ],
   "source": [
    "import matplotlib.pyplot as plt\n",
    "import numpy as np\n",
    "def f1(x1,x2):\n",
    "    return (x1*x1+x1*x2-10.)\n",
    "\n",
    "def f2(x1,x2):\n",
    "    return (x2+3*x1*x2*x2-57)\n",
    "\n",
    "def f1x1(x1,x2):\n",
    "    #partial derivative of f1 relative to x1\n",
    "    #'a' in delta x equations\n",
    "    return (2*x1+x2)\n",
    "\n",
    "def f1x2(x1,x2):\n",
    "    #partial derivative of f1 relative to x2\n",
    "    #'b' in delta x equations\n",
    "    return (x1)\n",
    "    \n",
    "def f2x1(x1,x2):\n",
    "    #partial derivative of f2 relative to x1\n",
    "    #'c' in delta x equations\n",
    "    return (3*x2**2)\n",
    "    \n",
    "def f2x2(x1,x2):\n",
    "    #partial derivative of f2 relative to x2\n",
    "    #'d' in delta x equations\n",
    "    return (1+6*x1*x2)\n",
    "    \n",
    "def dx1(f1,f2,f1x1,f1x2,f2x1,f2x2,x1,x2):\n",
    "    a = f1x1(x1, x2)\n",
    "    b = f1x2(x1, x2)\n",
    "    bf2 = b*f2(x1, x2)\n",
    "    c = f2x1(x1, x2)\n",
    "    d = f2x2(x1, x2)\n",
    "    df1 = d*f1(x1, x2)\n",
    "    return (bf2 - df1) / (a*d - c*b)\n",
    "\n",
    "def dx2(f1,f2,f1x1,f1x2,f2x1,f2x2,x1,x2):\n",
    "    a = f1x1(x1, x2)\n",
    "    af2 = a*f2(x1, x2)\n",
    "    b = f1x2(x1, x2)\n",
    "    c = f2x1(x1, x2)\n",
    "    cf1 = c*f1(x1, x2)\n",
    "    d = f2x2(x1, x2)\n",
    "    return (cf1 - af2) / (a*d - c*b)\n",
    "    \n",
    "#initial guess \n",
    "x1 = 1\n",
    "x2 = 2\n",
    "Nmax = 100\n",
    "eps = 1.e-8\n",
    "\n",
    "for i in range(0, Nmax):\n",
    "    x1=x1+dx1(f1, f2, f1x1, f1x2, f2x1, f2x2, x1, x2)\n",
    "    x2=x2+dx2(f1, f2, f1x1, f1x2, f2x1, f2x2, x1, x2)\n",
    "    print(\"Current guess: i =\", i, \" \\t x1 =\", x1, \" \\t x2 =\", x2)\n",
    "    if abs(f1(x1,x2))<eps and abs(f2(x1,x2))<eps:\n",
    "        print(\"Root is as x1 = \", x1, \" and x2 = \", x2)\n",
    "        break\n",
    "\n",
    "           "
   ]
  },
  {
   "cell_type": "code",
   "execution_count": null,
   "metadata": {},
   "outputs": [],
   "source": []
  }
 ],
 "metadata": {
  "kernelspec": {
   "display_name": "Python 3",
   "language": "python",
   "name": "python3"
  },
  "language_info": {
   "codemirror_mode": {
    "name": "ipython",
    "version": 3
   },
   "file_extension": ".py",
   "mimetype": "text/x-python",
   "name": "python",
   "nbconvert_exporter": "python",
   "pygments_lexer": "ipython3",
   "version": "3.8.5"
  }
 },
 "nbformat": 4,
 "nbformat_minor": 4
}
