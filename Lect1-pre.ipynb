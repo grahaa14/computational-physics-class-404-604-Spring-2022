{
 "cells": [
  {
   "cell_type": "markdown",
   "metadata": {},
   "source": [
    "# Physics 404/604\n",
    "\n",
    "## Computational Physics (Spring 2022)\n",
    "\n",
    "\n",
    "| Instructor | Prof. Zhaohuan Zhu                 |\n",
    "| ---------- | :--------------------------------- |\n",
    "| Email      | zhaohuan.zhu@unlv.edu              |\n",
    "| Website    | http://www.physics.unlv.edu/~zhzhu |\n",
    "| Office     | BPB 245                            |\n",
    "\n",
    "\n",
    "\n",
    "# 1 Python Basics\n",
    "## 1.1 Python Installation\n",
    "\n",
    "## Conda (a little bit old, see README of the course)\n",
    "The best way set-up an scientific Python environment is to use the cross-platform package manager conda from Continuum Analytics. First download and install Anaconda https://www.anaconda.com/download/#macos (download Mac or Windows version depending on your operation system). Next, to install the required libraries for these notebooks, simply run following at your anaconda terminal :\n",
    "\n",
    "\t$ conda install jupyter spyder numpy scipy sympy matplotlib cython \n",
    "    \n",
    "To install vpython:  \n",
    "Fllow https://vpython.org/presentation2018/install.html\n",
    "In a Power Shell or Command Prompt (Windows) or Terminal (Mac / Linux) run this command, which will install VPython 7 for Python 2.7, 3.4, 3.5, or 3.6:   \n",
    "\n",
    "    $ pip install vpython  \n",
    "    \n",
    "  Or if using Anaconda, conda install -c vpython vpython   (For Python 3.7, you need to use pip install vpython)\n",
    "    \n",
    "After you installed jupyter, you could run it from the anaconda terminal \n",
    "\n",
    "    $ jupyter notebook\n",
    "    \n",
    "Then you can type python command and save it to your notebook\n",
    "\n",
    "## Viewing Jupyter notebook\n",
    "Sometimes the equations cannot be displayed correctly using the web browser. You can use nbview to get a better display for equations.\n",
    "https://nbviewer.jupyter.org/\n",
    "\n",
    "## Running Jupyter notebook online\n",
    "If you use the department computers, this may work \n",
    "(Please test this)\n",
    "https://jupyter.org/try"
   ]
  },
  {
   "cell_type": "code",
   "execution_count": 3,
   "metadata": {},
   "outputs": [
    {
     "name": "stdout",
     "output_type": "stream",
     "text": [
      "Welcome to Physics 404/604\n"
     ]
    }
   ],
   "source": [
    "#get started\n",
    "print(\"Welcome to Physics 404/604\")"
   ]
  },
  {
   "cell_type": "markdown",
   "metadata": {},
   "source": [
    "## 1.2 Variables \n",
    "  The Rules\n",
    "  * Variables names must start with a letter or an underscore, such as:  \n",
    "    \\_underscore  \n",
    "    underscore\\_  \n",
    "  * The remainder of your variable name may consist of letters, numbers and underscores.  \n",
    "    password1  \n",
    "    n00b  \n",
    "    un_der_scores  \n",
    "  * Names are case sensitive.  \n",
    "    case_sensitive, CASE_SENSITIVE, and Case_Sensitive are each a different variable.  \n",
    "\n",
    "By convention, variable names start with a lower-case letter, and Class names start with a capital letter.  \n",
    "  In addition, there are a number of Python keywords that cannot be used as variable names.   \n",
    "  e.g. False, except, if, and, as, assert, print...... "
   ]
  },
  {
   "cell_type": "code",
   "execution_count": 8,
   "metadata": {},
   "outputs": [],
   "source": [
    "# variable assignments with =\n",
    "# different from C/fortran, no need to specify the type of a varialbe, dynamically typed language\n",
    "x=1.0\n",
    "\n"
   ]
  },
  {
   "cell_type": "code",
   "execution_count": 9,
   "metadata": {},
   "outputs": [
    {
     "name": "stdout",
     "output_type": "stream",
     "text": [
      "1.0 <class 'float'>\n"
     ]
    }
   ],
   "source": [
    "print(x, type(x))"
   ]
  },
  {
   "cell_type": "code",
   "execution_count": null,
   "metadata": {},
   "outputs": [],
   "source": [
    "# In-Class Questions, which ones are valid\n",
    "_velocity=1\n",
    "1stvelocity=1\n",
    "vel1st=1\n",
    "_vel_1st=1\n",
    "vel#2=1\n",
    "vel)=1\n",
    "Name_Student=\"Joe\"\n",
    "_Name~student=\"Bob\""
   ]
  },
  {
   "cell_type": "markdown",
   "metadata": {},
   "source": [
    "Data Types  \n",
    "    Python has 5 data types  \n",
    "    * Numbers\n",
    "    * String\n",
    "    * List\n",
    "    * Tuple\n",
    "    * Dictionary\n"
   ]
  },
  {
   "cell_type": "code",
   "execution_count": 10,
   "metadata": {},
   "outputs": [],
   "source": [
    "# Numbers:\n",
    "# integers\n",
    "# float\n",
    "# bollean\n",
    "# complex\n",
    "a = 3\n",
    "b = 3.0\n",
    "c = True # or False\n",
    "d = 3.+3.j"
   ]
  },
  {
   "cell_type": "code",
   "execution_count": 11,
   "metadata": {},
   "outputs": [
    {
     "name": "stdout",
     "output_type": "stream",
     "text": [
      "3 <class 'int'>\n",
      "3.0 <class 'float'>\n",
      "True <class 'bool'>\n",
      "(3+3j) <class 'complex'>\n"
     ]
    }
   ],
   "source": [
    "print(a, type(a))\n",
    "print(b, type(b))\n",
    "print(c, type(c))\n",
    "print(d, type(d))"
   ]
  },
  {
   "cell_type": "code",
   "execution_count": 12,
   "metadata": {},
   "outputs": [
    {
     "name": "stdout",
     "output_type": "stream",
     "text": [
      "welcome <class 'str'>\n"
     ]
    }
   ],
   "source": [
    "# String\n",
    "a = \"welcome\"\n",
    "print(a, type(a))\n"
   ]
  },
  {
   "cell_type": "code",
   "execution_count": 13,
   "metadata": {},
   "outputs": [
    {
     "name": "stdout",
     "output_type": "stream",
     "text": [
      "list index 2 = 3.4\n",
      "list index -1 =  4.5\n",
      "list index 2 to the end =  [3.4, 4.5]\n",
      "list index 0 to 2 =  [1, 'Hello', 3.4]\n"
     ]
    }
   ],
   "source": [
    "# List:\n",
    "# empty list\n",
    "my_list = []\n",
    "\n",
    "# list of integers\n",
    "my_list = [1, 2, 3]\n",
    "\n",
    "# list with mixed datatypes\n",
    "my_list = [1, \"Hello\", 3.4, 4.5]\n",
    "\n",
    "# access list through index, the index starts with 0 !!!\n",
    "print(\"list index 2 =\",my_list[2])\n",
    "\n",
    "# the index can be negative\n",
    "print(\"list index -1 = \",my_list[-1])\n",
    "\n",
    "# or you can select several elements in the list using colon\n",
    "print(\"list index 2 to the end = \",my_list[2:])\n",
    "print(\"list index 0 to 2 = \",my_list[0:3]) # note that 0:3 only select 0,1,2 index !!!!!"
   ]
  },
  {
   "cell_type": "code",
   "execution_count": 14,
   "metadata": {},
   "outputs": [
    {
     "name": "stdout",
     "output_type": "stream",
     "text": [
      "[1, 2, 3, 4, 5]\n"
     ]
    }
   ],
   "source": [
    "# List are mutable, unlike string and tuple\n",
    "array=[1,3,2,5,5]\n",
    "\n",
    "# change the forth element\n",
    "array[3]=4\n",
    "\n",
    "# change the second and third elements\n",
    "array[1:3]=[2,3] # notice that 1:3 selects index 1,2\n",
    "\n",
    "print(array)"
   ]
  },
  {
   "cell_type": "code",
   "execution_count": 14,
   "metadata": {},
   "outputs": [
    {
     "name": "stdout",
     "output_type": "stream",
     "text": [
      "[1, 2, 3, 4, 5, 6]\n",
      "[2, 3, 4, 5, 6]\n"
     ]
    }
   ],
   "source": [
    "# add and delete element\n",
    "array.append(6)\n",
    "print(array)\n",
    "del array[0]\n",
    "print (array)"
   ]
  },
  {
   "cell_type": "code",
   "execution_count": 18,
   "metadata": {},
   "outputs": [
    {
     "name": "stdout",
     "output_type": "stream",
     "text": [
      "0 1 2 3 4 5 6 7 8 9\n",
      "2 3 4 5 6 7 8 9\n",
      "-3 -1 1 3 5 7\n",
      "[1, 2, 4, 8, 16, 32, 64, 128, 256, 512]\n"
     ]
    }
   ],
   "source": [
    "# Ways to create a list\n",
    "index=range(10) # 9 numbers from 0 to 9 !!!!! notice that the last number is 9!!!\n",
    "index2=range(2,10) # with a non-zero start\n",
    "index3=range(-3,9,2) # with a non-zero start and an interval that is different from 1\n",
    "print(*index)# * means unpack the sequence\n",
    "print(*index2)\n",
    "print(*index3)\n",
    "\n",
    "#Fancy way to create a list: List Comprehension\n",
    "pow2 = [2 ** x for x in range(10)]\n",
    "print(pow2)\n"
   ]
  },
  {
   "cell_type": "markdown",
   "metadata": {},
   "source": [
    " Dictionary: a collection of data e.g. this={\"brand\": \"Ford\", \"year\": 1964}\n",
    "\n",
    "Dictionaries and lists share the following characteristics:\n",
    "\n",
    "    Both are mutable.\n",
    "    Both are dynamic. They can grow and shrink as needed.\n",
    "    Both can be nested. A list can contain another list. A dictionary can contain another dictionary. A dictionary can also contain a list, and vice versa.\n",
    "\n",
    "Dictionaries differ from lists primarily in how elements are accessed:\n",
    "\n",
    "    List elements are accessed by their position in the list, via indexing. (e.g. a[0])\n",
    "    Dictionary elements are accessed via keys (e.g. this[\"brand\"]).\n"
   ]
  },
  {
   "cell_type": "code",
   "execution_count": 19,
   "metadata": {},
   "outputs": [
    {
     "name": "stdout",
     "output_type": "stream",
     "text": [
      "Mustang\n",
      "{'brand': 'Ford', 'model': 'Mustang', 'year': 2018}\n",
      "brand Ford\n",
      "model Mustang\n",
      "year 2018\n"
     ]
    }
   ],
   "source": [
    "thisdict ={\n",
    "  \"brand\": \"Ford\",\n",
    "  \"model\": \"Mustang\",\n",
    "  \"year\": 1964\n",
    "}\n",
    "\n",
    "# access and change dictionary \n",
    "x = thisdict[\"model\"]\n",
    "print(x)\n",
    "thisdict[\"year\"] = 2018\n",
    "print(thisdict)\n",
    "\n",
    "# loop through the dictionary\n",
    "for x in thisdict: # x is the key\n",
    "  print(x,thisdict[x]) \n",
    "\n",
    "# try it: change the year of this dict to an array [1964, 2020]\n",
    "thisdict[\"year\"]=[1964,2020]"
   ]
  },
  {
   "cell_type": "code",
   "execution_count": 21,
   "metadata": {},
   "outputs": [
    {
     "name": "stdout",
     "output_type": "stream",
     "text": [
      "<class 'numpy.ndarray'>\n",
      "(2, 3)\n",
      "6.0\n",
      "[-1.00000000e+00 -9.00000000e-01 -8.00000000e-01 -7.00000000e-01\n",
      " -6.00000000e-01 -5.00000000e-01 -4.00000000e-01 -3.00000000e-01\n",
      " -2.00000000e-01 -1.00000000e-01 -2.22044605e-16  1.00000000e-01\n",
      "  2.00000000e-01  3.00000000e-01  4.00000000e-01  5.00000000e-01\n",
      "  6.00000000e-01  7.00000000e-01  8.00000000e-01  9.00000000e-01\n",
      "  1.00000000e+00  1.10000000e+00  1.20000000e+00  1.30000000e+00\n",
      "  1.40000000e+00  1.50000000e+00  1.60000000e+00  1.70000000e+00\n",
      "  1.80000000e+00  1.90000000e+00  2.00000000e+00  2.10000000e+00\n",
      "  2.20000000e+00  2.30000000e+00  2.40000000e+00  2.50000000e+00\n",
      "  2.60000000e+00  2.70000000e+00  2.80000000e+00  2.90000000e+00\n",
      "  3.00000000e+00  3.10000000e+00  3.20000000e+00  3.30000000e+00\n",
      "  3.40000000e+00  3.50000000e+00  3.60000000e+00  3.70000000e+00\n",
      "  3.80000000e+00  3.90000000e+00  4.00000000e+00  4.10000000e+00\n",
      "  4.20000000e+00  4.30000000e+00  4.40000000e+00  4.50000000e+00\n",
      "  4.60000000e+00  4.70000000e+00  4.80000000e+00  4.90000000e+00]\n",
      "[1 2 3 4 5 6 7 8 9]\n"
     ]
    }
   ],
   "source": [
    "# A lot of times, list are used as arrays. But it is more convenient to use Numpy library to generate/operate arrays\n",
    "# NumPy is the fundamental package for scientific computing in Python. \n",
    "# It is a Python library that provides a multidimensional array object and all the math tools associated with the arrays.\n",
    "\n",
    "import numpy as np\n",
    "\n",
    "a=np.array([1,2,3])\n",
    "b=np.array([[1.,2.,3.],[4.,5.,6.]])\n",
    "c=np.arange(-1.,5.,0.1) # number starting at -1, with interval 0.1, ending at 5.0, do not include 0.1\n",
    "d=np.arange(1,10) # 9 numbers\n",
    "\n",
    "print(type(a))\n",
    "print(b.shape)\n",
    "print(b[1,2]) #second row, third coloumn\n",
    "print(c)\n",
    "print(d)"
   ]
  },
  {
   "cell_type": "markdown",
   "metadata": {},
   "source": [
    "##  1.3 Operators and comparisons\n",
    "Normal definition:\n",
    "\n",
    "Arithmetic operators +, -, $*$, /, % (modulus), // (floor division), $**$ (power)"
   ]
  },
  {
   "cell_type": "code",
   "execution_count": 22,
   "metadata": {},
   "outputs": [
    {
     "name": "stdout",
     "output_type": "stream",
     "text": [
      "x + y = 17\n",
      "x - y = 11\n",
      "x * y = 42\n",
      "x / y = 4.666666666666667\n",
      "x // y = 4\n",
      "x % y = 2\n",
      "x ** y = 2744\n"
     ]
    }
   ],
   "source": [
    "x = 14\n",
    "y = 3\n",
    "\n",
    "# Output: x + y = 17\n",
    "print('x + y =',x+y)\n",
    "\n",
    "# Output: x - y = 11\n",
    "print('x - y =',x-y)\n",
    "\n",
    "# Output: x * y = 42\n",
    "print('x * y =',x*y)\n",
    "\n",
    "# Output: x / y = 4.67\n",
    "print('x / y =',x/y) # automatically convert it to float\n",
    "\n",
    "# Output: x // y = 4 \n",
    "# division into integer adjusted to the left in the number line, note negative number)\n",
    "print('x // y =',x//y)\n",
    "\n",
    "# Output: x % y = 4 \n",
    "# modulus (work for both integer and float)\n",
    "print('x % y =',x%y)\n",
    "\n",
    "# Output: x ** y = 2744\n",
    "print('x ** y =',x**y)"
   ]
  },
  {
   "cell_type": "code",
   "execution_count": 14,
   "metadata": {},
   "outputs": [
    {
     "name": "stdout",
     "output_type": "stream",
     "text": [
      "x > y  is False\n",
      "x < y  is True\n",
      "x == y is False\n",
      "x != y is True\n",
      "x >= y is False\n",
      "x <= y is True\n"
     ]
    }
   ],
   "source": [
    "# Comparison operators\n",
    "\n",
    "x = 10\n",
    "y = 12\n",
    "\n",
    "# Output: x > y is False\n",
    "print('x > y  is',x>y)\n",
    "\n",
    "# Output: x < y is True\n",
    "print('x < y  is',x<y)\n",
    "\n",
    "# Output: x == y is False\n",
    "print('x == y is',x==y)\n",
    "\n",
    "# Output: x != y is True\n",
    "print('x != y is',x!=y)\n",
    "\n",
    "# Output: x >= y is False\n",
    "print('x >= y is',x>=y)\n",
    "\n",
    "# Output: x <= y is True\n",
    "print('x <= y is',x<=y)"
   ]
  },
  {
   "cell_type": "code",
   "execution_count": 15,
   "metadata": {},
   "outputs": [
    {
     "name": "stdout",
     "output_type": "stream",
     "text": [
      "x and y is False\n",
      "x or y is True\n",
      "not x is False\n"
     ]
    }
   ],
   "source": [
    "# Logical operators\n",
    "\n",
    "x = True\n",
    "y = False\n",
    "\n",
    "# Output: x and y is False\n",
    "print('x and y is',x and y)\n",
    "\n",
    "# Output: x or y is True\n",
    "print('x or y is',x or y)\n",
    "\n",
    "# Output: not x is False\n",
    "print('not x is',not x)\n"
   ]
  },
  {
   "cell_type": "code",
   "execution_count": 22,
   "metadata": {},
   "outputs": [
    {
     "name": "stdout",
     "output_type": "stream",
     "text": [
      "True\n",
      "False\n"
     ]
    }
   ],
   "source": [
    "# membership operators: in, not in\n",
    "a=[1,2,3,4]\n",
    "print(1 in a)\n",
    "print(1 not in a)"
   ]
  },
  {
   "cell_type": "markdown",
   "metadata": {},
   "source": [
    "## 1.4 If-else and Indentation\n",
    "\n",
    "One of the most distinctive features of Python is its use of indentation to mark blocks of code.\n",
    "\n",
    "The colon (:) is significant and required. It separates the header of the compound statement from the body.\n",
    "The line after the colon must be indented. It is standard in Python to use four spaces for indenting."
   ]
  },
  {
   "cell_type": "code",
   "execution_count": 24,
   "metadata": {},
   "outputs": [
    {
     "name": "stdout",
     "output_type": "stream",
     "text": [
      "Incorrect password.\n",
      "Try again\n",
      "All done!\n"
     ]
    }
   ],
   "source": [
    "pwd='apple1'\n",
    "if pwd == 'apple':\n",
    "    print('Logging on ...')\n",
    "else:\n",
    "    print('Incorrect password.')\n",
    "    print('Try again') # multiple lines in one block of code need to have the same indentation\n",
    "\n",
    "print('All done!')"
   ]
  },
  {
   "cell_type": "markdown",
   "metadata": {},
   "source": [
    "## 1.5 Loop\n",
    "\n",
    "For loop and While loop"
   ]
  },
  {
   "cell_type": "code",
   "execution_count": 25,
   "metadata": {},
   "outputs": [
    {
     "name": "stdout",
     "output_type": "stream",
     "text": [
      "Apple\n",
      "Asus\n",
      "Dell\n",
      "Samsung\n"
     ]
    }
   ],
   "source": [
    "# For loop\n",
    "#The for loop that is used to iterate over elements of a sequence, it is often \n",
    "#used when you have a piece of code which you want to repeat \"n\" number of time. \n",
    "\n",
    "#It works like this: \" for all elements in a list, do this \"\n",
    "\n",
    "computer_brands = [\"Apple\", \"Asus\", \"Dell\", \"Samsung\"]\n",
    "for brands in computer_brands:\n",
    "    print(brands)  # need indentation to show it is within for block"
   ]
  },
  {
   "cell_type": "code",
   "execution_count": 26,
   "metadata": {},
   "outputs": [
    {
     "name": "stdout",
     "output_type": "stream",
     "text": [
      "0\n",
      "2\n",
      "4\n",
      "6\n",
      "8\n",
      "10\n",
      "12\n",
      "14\n",
      "16\n",
      "18\n",
      "0.1\n",
      "0.2\n",
      "0.30000000000000004\n",
      "0.4\n",
      "0.5\n",
      "0.6\n",
      "0.7000000000000001\n",
      "0.8\n",
      "0.9\n",
      "1.0\n"
     ]
    }
   ],
   "source": [
    "# to loop through integers\n",
    "for i in range(10): # the most common way to generate a loop\n",
    "    c=2*i\n",
    "    print(c)\n",
    "    \n",
    "# to loop through arrays\n",
    "import numpy as np\n",
    "for a in np.arange(0.1,1.0,0.1):\n",
    "    print(a)\n",
    "    \n",
    "# try this, calculate 1+2+3....+100\n",
    "b=1.\n",
    "\n",
    "\n",
    "print(b)"
   ]
  },
  {
   "cell_type": "markdown",
   "metadata": {},
   "source": [
    "Sometimes if you have an array and you want to loop through the array to get both the index and element of the array, you can use ** enumerate** function.\n",
    "\n",
    "Enumerate() method adds a counter to an iterable and returns it in a form of enumerate object. This enumerate object can then be used directly in for loops"
   ]
  },
  {
   "cell_type": "code",
   "execution_count": 33,
   "metadata": {},
   "outputs": [
    {
     "name": "stdout",
     "output_type": "stream",
     "text": [
      "Return type: <class 'enumerate'>\n",
      "[(0, 'eat'), (1, 'sleep'), (2, 'repeat')]\n"
     ]
    }
   ],
   "source": [
    "l1 = [\"eat\",\"sleep\",\"repeat\"] \n",
    "  \n",
    "# creating enumerate objects \n",
    "obj1 = enumerate(l1) \n",
    "\n",
    "print(\"Return type:\",type(obj1) )\n",
    "print(list(enumerate(l1)) )\n"
   ]
  },
  {
   "cell_type": "code",
   "execution_count": 39,
   "metadata": {},
   "outputs": [
    {
     "name": "stdout",
     "output_type": "stream",
     "text": [
      "List index-value are : \n",
      "0 1 2\n",
      "1 4 8\n",
      "2 5 9\n",
      "3 6 10\n",
      "4 7 11\n",
      "0 1 2\n",
      "1 4 8\n",
      "2 5 9\n",
      "3 6 10\n",
      "4 7 11\n"
     ]
    }
   ],
   "source": [
    "# initializing list \n",
    "list1 = [1, 4, 5, 6, 7] \n",
    "list2 = [2, 8, 9, 10, 11]\n",
    "# using enumerate to \n",
    "# get index and value .\n",
    "print (\"List index-value are : \") \n",
    "for index, value in enumerate(list1): \n",
    "    print(index, value, list2[index]) # This saves writing \"list1[index]\" every time.\n",
    "\n",
    "for index in range(len(list1)):\n",
    "    print(index,list1[index],list2[index])"
   ]
  },
  {
   "cell_type": "markdown",
   "metadata": {},
   "source": [
    "## 1.6 Open and Read Files\n"
   ]
  },
  {
   "cell_type": "code",
   "execution_count": 27,
   "metadata": {},
   "outputs": [
    {
     "name": "stdout",
     "output_type": "stream",
     "text": [
      "[8.61138e-05 9.55903e-05 1.04687e-04 1.14222e-04 1.24623e-04 1.35971e-04\n",
      " 1.48349e-04 1.61853e-04 1.76585e-04 1.92655e-04 2.10187e-04 2.29312e-04\n",
      " 2.50175e-04 2.72935e-04 2.97764e-04 3.24849e-04 3.54397e-04 3.86631e-04\n",
      " 4.21794e-04 4.60155e-04 5.02002e-04 5.47652e-04 5.97453e-04 6.51781e-04\n",
      " 7.11046e-04 7.75699e-04 8.46230e-04 9.23171e-04 1.00711e-03 1.09867e-03\n",
      " 1.19856e-03 1.30753e-03 1.42640e-03 1.55608e-03 1.69755e-03 1.85187e-03\n",
      " 2.02023e-03 2.20388e-03 2.40423e-03 2.62280e-03 2.86123e-03 3.12134e-03\n",
      " 3.40508e-03 3.71462e-03 4.05230e-03 4.42068e-03 4.82253e-03 5.26092e-03\n",
      " 5.73916e-03 6.26087e-03 6.83000e-03 7.45086e-03 8.12817e-03 8.86704e-03\n",
      " 9.67307e-03 1.05524e-02 1.15116e-02 1.25580e-02 1.36996e-02 1.49449e-02\n",
      " 1.63034e-02 1.77854e-02 1.94021e-02 2.11658e-02 2.30897e-02 2.51886e-02\n",
      " 2.74783e-02 2.99761e-02 3.27009e-02 3.56735e-02 3.89162e-02 4.24537e-02\n",
      " 4.63128e-02 5.05226e-02 5.51151e-02 6.01251e-02 6.55905e-02 7.15527e-02\n",
      " 7.80569e-02 8.51523e-02 9.28926e-02 1.01337e-01 1.10548e-01 1.20597e-01\n",
      " 1.31559e-01 1.43518e-01 1.56564e-01 1.70795e-01 1.86321e-01 2.03257e-01\n",
      " 2.21733e-01 2.41889e-01 2.63877e-01 2.87863e-01 3.14030e-01 3.42575e-01]\n"
     ]
    }
   ],
   "source": [
    "import numpy as np\n",
    "import matplotlib.pyplot as plt\n",
    "import os\n",
    "\n",
    "file = open('data.tab','r')\n",
    "\n",
    "# Read and ignore header lines\n",
    "header1 = file.readline()\n",
    "header2 = file.readline()\n",
    "x1v = []\n",
    "rho = []\n",
    "vel2 = []\n",
    "for line in file: # Loop through every line in the file\n",
    "    line = line.strip() # The strip() removes characters from both left and right \n",
    "    columns = line.split() # Split the string into many columns\n",
    "    x1v = np.append(x1v,float(columns[1])) # convert the column into floating numbers\n",
    "    rho = np.append(rho,float(columns[2]))\n",
    "    vel2 = np.append(vel2,float(columns[5]))\n",
    "print(x1v)"
   ]
  },
  {
   "cell_type": "code",
   "execution_count": 28,
   "metadata": {},
   "outputs": [
    {
     "data": {
      "text/plain": [
       "{'ind': array([ 0.,  1.,  2.,  3.,  4.,  5.,  6.,  7.,  8.,  9., 10., 11., 12.,\n",
       "        13., 14., 15., 16., 17., 18., 19., 20., 21., 22., 23., 24., 25.,\n",
       "        26., 27., 28., 29., 30., 31., 32., 33., 34., 35., 36., 37., 38.,\n",
       "        39., 40., 41., 42., 43., 44., 45., 46., 47., 48., 49., 50., 51.,\n",
       "        52., 53., 54., 55., 56., 57., 58., 59., 60., 61., 62., 63., 64.,\n",
       "        65., 66., 67., 68., 69., 70., 71., 72., 73., 74., 75., 76., 77.,\n",
       "        78., 79., 80., 81., 82., 83., 84., 85., 86., 87., 88., 89., 90.,\n",
       "        91., 92., 93., 94., 95.]),\n",
       " 'press': array([0.0209521 , 0.0209522 , 0.0209522 , 0.0209521 , 0.0209515 ,\n",
       "        0.0209496 , 0.0209458 , 0.020939  , 0.0209287 , 0.0209141 ,\n",
       "        0.0208948 , 0.0208704 , 0.0208405 , 0.0208048 , 0.0207629 ,\n",
       "        0.0207142 , 0.0206584 , 0.0205949 , 0.0205231 , 0.0204424 ,\n",
       "        0.0203522 , 0.0202519 , 0.0201408 , 0.0200183 , 0.0198836 ,\n",
       "        0.0197361 , 0.0195752 , 0.0194003 , 0.0192106 , 0.0190057 ,\n",
       "        0.018785  , 0.018548  , 0.0182944 , 0.0180238 , 0.0177358 ,\n",
       "        0.0174305 , 0.0171077 , 0.0167675 , 0.0164101 , 0.0160359 ,\n",
       "        0.0156454 , 0.0152393 , 0.0148184 , 0.0143837 , 0.0139366 ,\n",
       "        0.0134784 , 0.0130109 , 0.0125357 , 0.012055  , 0.011571  ,\n",
       "        0.011086  , 0.0106026 , 0.0101235 , 0.00965152, 0.00918941,\n",
       "        0.00874001, 0.00830601, 0.00788984, 0.00749341, 0.0071177 ,\n",
       "        0.0067624 , 0.00642585, 0.00610584, 0.00580087, 0.00551006,\n",
       "        0.00523265, 0.0049678 , 0.00471455, 0.00447189, 0.0042388 ,\n",
       "        0.00401441, 0.0037981 , 0.00358958, 0.00338895, 0.0031967 ,\n",
       "        0.00301374, 0.0028413 , 0.00268086, 0.00253404, 0.00240245,\n",
       "        0.00228754, 0.00219038, 0.00211154, 0.00205081, 0.00200713,\n",
       "        0.00197839, 0.00196158, 0.00195311, 0.00194959, 0.00194843,\n",
       "        0.00194815, 0.0019481 , 0.00194809, 0.00194809, 0.00194809,\n",
       "        0.00194809]),\n",
       " 'rho': array([2.41795e-03, 1.80512e-03, 1.80512e-03, 2.41795e-03, 3.36926e-03,\n",
       "        4.36526e-03, 5.23475e-03, 5.93542e-03, 6.50366e-03, 7.00216e-03,\n",
       "        7.49259e-03, 8.03007e-03, 8.66386e-03, 9.43940e-03, 1.04002e-02,\n",
       "        1.15899e-02, 1.30545e-02, 1.48447e-02, 1.70175e-02, 1.96379e-02,\n",
       "        2.27802e-02, 2.65294e-02, 3.09824e-02, 3.62491e-02, 4.24536e-02,\n",
       "        4.97359e-02, 5.82525e-02, 6.81777e-02, 7.97049e-02, 9.30469e-02,\n",
       "        1.08437e-01, 1.26127e-01, 1.46391e-01, 1.69521e-01, 1.95826e-01,\n",
       "        2.25629e-01, 2.59263e-01, 2.97069e-01, 3.39383e-01, 3.86531e-01,\n",
       "        4.38817e-01, 4.96510e-01, 5.59824e-01, 6.28901e-01, 7.03788e-01,\n",
       "        7.84404e-01, 8.70515e-01, 9.61692e-01, 1.05727e+00, 1.15632e+00,\n",
       "        1.25757e+00, 1.35937e+00, 1.45968e+00, 1.55601e+00, 1.64549e+00,\n",
       "        1.72490e+00, 1.79097e+00, 1.84085e+00, 1.87306e+00, 1.88885e+00,\n",
       "        1.89321e+00, 1.89034e+00, 1.87690e+00, 1.84610e+00, 1.79415e+00,\n",
       "        1.72029e+00, 1.62611e+00, 1.51485e+00, 1.39067e+00, 1.25816e+00,\n",
       "        1.12181e+00, 9.85716e-01, 8.53356e-01, 7.27513e-01, 6.10323e-01,\n",
       "        5.03303e-01, 4.07366e-01, 3.22948e-01, 2.50083e-01, 1.88474e-01,\n",
       "        1.37556e-01, 9.65590e-02, 6.45666e-02, 4.05694e-02, 2.34975e-02,\n",
       "        1.22202e-02, 5.51577e-03, 2.07371e-03, 6.19318e-04, 1.39009e-04,\n",
       "        2.18583e-05, 2.19244e-06, 1.39515e-07, 2.17955e-08, 2.17955e-08,\n",
       "        2.17955e-08]),\n",
       " 'vel1': array([ 3.39121e-06,  3.23886e-06, -3.23886e-06, -3.39121e-06,\n",
       "        -6.44113e-06, -8.11307e-06, -9.40731e-06, -9.79297e-06,\n",
       "        -9.57103e-06, -8.83531e-06, -7.98048e-06, -6.98186e-06,\n",
       "        -5.99754e-06, -5.11016e-06, -4.37748e-06, -3.80743e-06,\n",
       "        -3.38037e-06, -3.06744e-06, -2.84017e-06, -2.67623e-06,\n",
       "        -2.56044e-06, -2.48050e-06, -2.42853e-06, -2.39743e-06,\n",
       "        -2.38491e-06, -2.38890e-06, -2.40585e-06, -2.43549e-06,\n",
       "        -2.47728e-06, -2.53098e-06, -2.59660e-06, -2.67435e-06,\n",
       "        -2.76465e-06, -2.86804e-06, -2.98524e-06, -3.11710e-06,\n",
       "        -3.26461e-06, -3.42891e-06, -3.61126e-06, -3.81308e-06,\n",
       "        -4.03593e-06, -4.28153e-06, -4.55179e-06, -4.84879e-06,\n",
       "        -5.17487e-06, -5.53265e-06, -5.92507e-06, -6.35540e-06,\n",
       "        -6.82709e-06, -7.34340e-06, -7.90669e-06, -8.51741e-06,\n",
       "        -9.17351e-06, -9.87105e-06, -1.06019e-05, -1.13445e-05,\n",
       "        -1.20505e-05, -1.25998e-05, -1.28055e-05, -1.26437e-05,\n",
       "        -1.26828e-05, -1.39052e-05, -1.58039e-05, -1.74184e-05,\n",
       "        -1.88030e-05, -2.00446e-05, -2.12355e-05, -2.24227e-05,\n",
       "        -2.36252e-05, -2.48391e-05, -2.60858e-05, -2.74580e-05,\n",
       "        -2.89902e-05, -3.05017e-05, -3.19084e-05, -3.33341e-05,\n",
       "        -3.48222e-05, -3.64571e-05, -3.83905e-05, -4.08386e-05,\n",
       "        -4.41226e-05, -4.85905e-05, -5.44302e-05, -6.13637e-05,\n",
       "        -6.78848e-05, -7.31889e-05, -7.20370e-05, -6.41032e-05,\n",
       "        -5.14241e-05, -3.77215e-05, -2.41903e-05, -1.73324e-05,\n",
       "        -6.10992e-06, -2.00479e-05,  0.00000e+00,  0.00000e+00]),\n",
       " 'vel2': array([6.36773e-07, 8.23178e-07, 8.23178e-07, 6.36773e-07, 4.56261e-07,\n",
       "        3.27421e-07, 2.41329e-07, 1.83645e-07, 1.43876e-07, 1.15374e-07,\n",
       "        9.40885e-08, 7.75646e-08, 6.43064e-08, 5.33964e-08, 4.42667e-08,\n",
       "        3.65585e-08, 3.00354e-08, 2.45295e-08, 1.99090e-08, 1.60613e-08,\n",
       "        1.28841e-08, 1.02826e-08, 8.16965e-09, 6.46595e-09, 5.10108e-09,\n",
       "        4.01374e-09, 3.15157e-09, 2.47061e-09, 1.93448e-09, 1.51345e-09,\n",
       "        1.18348e-09, 9.25237e-10, 7.23358e-10, 5.65651e-10, 4.42501e-10,\n",
       "        3.46351e-10, 2.71279e-10, 2.12652e-10, 1.66852e-10, 1.31058e-10,\n",
       "        1.03070e-10, 8.11734e-11, 6.40333e-11, 5.06085e-11, 4.00874e-11,\n",
       "        3.18368e-11, 2.53626e-11, 2.02786e-11, 1.62830e-11, 1.31394e-11,\n",
       "        1.06630e-11, 8.70850e-12, 7.16223e-12, 5.93482e-12, 4.95616e-12,\n",
       "        4.17129e-12, 3.53726e-12, 3.02064e-12, 2.59564e-12, 2.24262e-12,\n",
       "        1.94692e-12, 1.69789e-12, 1.48807e-12, 1.31224e-12, 1.16676e-12,\n",
       "        1.04897e-12, 9.56736e-13, 8.88019e-13, 8.40464e-13, 8.10984e-13,\n",
       "        7.95567e-13, 7.89507e-13, 7.88207e-13, 7.88797e-13, 7.91816e-13,\n",
       "        8.00213e-13, 8.17775e-13, 8.49281e-13, 9.01244e-13, 9.83531e-13,\n",
       "        1.11240e-12, 1.31639e-12, 1.64905e-12, 2.21915e-12, 3.27066e-12,\n",
       "        5.42061e-12, 1.04816e-11, 2.48995e-11, 7.81068e-11, 3.57678e-10,\n",
       "        2.71101e-09, 3.56335e-08, 4.95691e-07, 2.15681e-06, 2.15681e-06,\n",
       "        2.15681e-06]),\n",
       " 'vel3': array([0., 0., 0., 0., 0., 0., 0., 0., 0., 0., 0., 0., 0., 0., 0., 0., 0.,\n",
       "        0., 0., 0., 0., 0., 0., 0., 0., 0., 0., 0., 0., 0., 0., 0., 0., 0.,\n",
       "        0., 0., 0., 0., 0., 0., 0., 0., 0., 0., 0., 0., 0., 0., 0., 0., 0.,\n",
       "        0., 0., 0., 0., 0., 0., 0., 0., 0., 0., 0., 0., 0., 0., 0., 0., 0.,\n",
       "        0., 0., 0., 0., 0., 0., 0., 0., 0., 0., 0., 0., 0., 0., 0., 0., 0.,\n",
       "        0., 0., 0., 0., 0., 0., 0., 0., 0., 0., 0.]),\n",
       " 'x1v': array([8.61138e-05, 9.55903e-05, 1.04687e-04, 1.14222e-04, 1.24623e-04,\n",
       "        1.35971e-04, 1.48349e-04, 1.61853e-04, 1.76585e-04, 1.92655e-04,\n",
       "        2.10187e-04, 2.29312e-04, 2.50175e-04, 2.72935e-04, 2.97764e-04,\n",
       "        3.24849e-04, 3.54397e-04, 3.86631e-04, 4.21794e-04, 4.60155e-04,\n",
       "        5.02002e-04, 5.47652e-04, 5.97453e-04, 6.51781e-04, 7.11046e-04,\n",
       "        7.75699e-04, 8.46230e-04, 9.23171e-04, 1.00711e-03, 1.09867e-03,\n",
       "        1.19856e-03, 1.30753e-03, 1.42640e-03, 1.55608e-03, 1.69755e-03,\n",
       "        1.85187e-03, 2.02023e-03, 2.20388e-03, 2.40423e-03, 2.62280e-03,\n",
       "        2.86123e-03, 3.12134e-03, 3.40508e-03, 3.71462e-03, 4.05230e-03,\n",
       "        4.42068e-03, 4.82253e-03, 5.26092e-03, 5.73916e-03, 6.26087e-03,\n",
       "        6.83000e-03, 7.45086e-03, 8.12817e-03, 8.86704e-03, 9.67307e-03,\n",
       "        1.05524e-02, 1.15116e-02, 1.25580e-02, 1.36996e-02, 1.49449e-02,\n",
       "        1.63034e-02, 1.77854e-02, 1.94021e-02, 2.11658e-02, 2.30897e-02,\n",
       "        2.51886e-02, 2.74783e-02, 2.99761e-02, 3.27009e-02, 3.56735e-02,\n",
       "        3.89162e-02, 4.24537e-02, 4.63128e-02, 5.05226e-02, 5.51151e-02,\n",
       "        6.01251e-02, 6.55905e-02, 7.15527e-02, 7.80569e-02, 8.51523e-02,\n",
       "        9.28926e-02, 1.01337e-01, 1.10548e-01, 1.20597e-01, 1.31559e-01,\n",
       "        1.43518e-01, 1.56564e-01, 1.70795e-01, 1.86321e-01, 2.03257e-01,\n",
       "        2.21733e-01, 2.41889e-01, 2.63877e-01, 2.87863e-01, 3.14030e-01,\n",
       "        3.42575e-01])}"
      ]
     },
     "execution_count": 28,
     "metadata": {},
     "output_type": "execute_result"
    }
   ],
   "source": [
    "# A little bit more complicated data readin\n",
    "import numpy as np\n",
    "import matplotlib.pyplot as plt\n",
    "import sys\n",
    "\n",
    "# now define a function to read in files\n",
    "def readfile(name):\n",
    " f = open(name,'r')\n",
    " header1 = f.readline() # one header line\n",
    " header2 = f.readline()\n",
    " data={'ind':[],'x1v':[],'rho':[],'press':[],'vel1':[],'vel2':[],'vel3':[]} # use dictionary to organize the arrays, each element is an array \n",
    " for line in f:\n",
    "    # try yourself to readin the data to the dictionary\n",
    "    line = line.strip() # The strip() removes characters from both left and right \n",
    "    columns = line.split() # Split the string into many columns\n",
    "    data[\"ind\"] = np.append(data[\"ind\"],float(columns[0]))\n",
    "    data[\"x1v\"] = np.append(data[\"x1v\"],float(columns[1]))\n",
    "    data[\"rho\"] = np.append(data[\"rho\"],float(columns[2]))\n",
    "    data[\"press\"] = np.append(data[\"press\"],float(columns[3]))\n",
    "    data[\"vel1\"] = np.append(data[\"vel1\"],float(columns[4]))\n",
    "    data[\"vel2\"] = np.append(data[\"vel2\"],float(columns[5]))\n",
    "    data[\"vel3\"] = np.append(data[\"vel3\"],float(columns[6]))\n",
    "   ##\n",
    " return(data)\n",
    "\n",
    "# calling the function\n",
    "readfile(\"data.tab\")"
   ]
  },
  {
   "cell_type": "markdown",
   "metadata": {},
   "source": [
    "# 2 Making Plots\n",
    "  \n",
    "## 2.1 VPython (Optional)\n",
    "\n",
    "VPython can make 2-D plots\n",
    "\n",
    "vpython plot basically add point by point"
   ]
  },
  {
   "cell_type": "code",
   "execution_count": 1,
   "metadata": {
    "scrolled": true
   },
   "outputs": [
    {
     "data": {
      "text/html": [
       "<div id=\"glowscript\" class=\"glowscript\"></div>"
      ],
      "text/plain": [
       "<IPython.core.display.HTML object>"
      ]
     },
     "metadata": {},
     "output_type": "display_data"
    },
    {
     "data": {
      "application/javascript": [
       "if (typeof Jupyter !== \"undefined\") { window.__context = { glowscript_container: $(\"#glowscript\").removeAttr(\"id\")};}else{ element.textContent = ' ';}"
      ],
      "text/plain": [
       "<IPython.core.display.Javascript object>"
      ]
     },
     "metadata": {},
     "output_type": "display_data"
    },
    {
     "data": {
      "text/html": [
       "<div id=\"glowscript\" class=\"glowscript\"></div>"
      ],
      "text/plain": [
       "<IPython.core.display.HTML object>"
      ]
     },
     "metadata": {},
     "output_type": "display_data"
    },
    {
     "data": {
      "application/javascript": [
       "if (typeof Jupyter !== \"undefined\") { window.__context = { glowscript_container: $(\"#glowscript\").removeAttr(\"id\")};}else{ element.textContent = ' ';}"
      ],
      "text/plain": [
       "<IPython.core.display.Javascript object>"
      ]
     },
     "metadata": {},
     "output_type": "display_data"
    },
    {
     "data": {
      "application/javascript": [
       "if (typeof Jupyter !== \"undefined\") {require.undef(\"nbextensions/vpython_libraries/glow.min\");}else{element.textContent = ' ';}"
      ],
      "text/plain": [
       "<IPython.core.display.Javascript object>"
      ]
     },
     "metadata": {},
     "output_type": "display_data"
    },
    {
     "data": {
      "application/javascript": [
       "if (typeof Jupyter !== \"undefined\") {require.undef(\"nbextensions/vpython_libraries/glowcomm\");}else{element.textContent = ' ';}"
      ],
      "text/plain": [
       "<IPython.core.display.Javascript object>"
      ]
     },
     "metadata": {},
     "output_type": "display_data"
    },
    {
     "data": {
      "application/javascript": [
       "if (typeof Jupyter !== \"undefined\") {require.undef(\"nbextensions/vpython_libraries/jquery-ui.custom.min\");}else{element.textContent = ' ';}"
      ],
      "text/plain": [
       "<IPython.core.display.Javascript object>"
      ]
     },
     "metadata": {},
     "output_type": "display_data"
    },
    {
     "data": {
      "application/javascript": [
       "if (typeof Jupyter !== \"undefined\") {require([\"nbextensions/vpython_libraries/glow.min\"], function(){console.log(\"GLOW LOADED\");});}else{element.textContent = ' ';}"
      ],
      "text/plain": [
       "<IPython.core.display.Javascript object>"
      ]
     },
     "metadata": {},
     "output_type": "display_data"
    },
    {
     "data": {
      "application/javascript": [
       "if (typeof Jupyter !== \"undefined\") {require([\"nbextensions/vpython_libraries/glowcomm\"], function(){console.log(\"GLOWCOMM LOADED\");});}else{element.textContent = ' ';}"
      ],
      "text/plain": [
       "<IPython.core.display.Javascript object>"
      ]
     },
     "metadata": {},
     "output_type": "display_data"
    },
    {
     "data": {
      "application/javascript": [
       "if (typeof Jupyter !== \"undefined\") {require([\"nbextensions/vpython_libraries/jquery-ui.custom.min\"], function(){console.log(\"JQUERY LOADED\");});}else{element.textContent = ' ';}"
      ],
      "text/plain": [
       "<IPython.core.display.Javascript object>"
      ]
     },
     "metadata": {},
     "output_type": "display_data"
    }
   ],
   "source": [
    "from vpython import * # must import vpython first\n",
    "scene = canvas() # with this you don't need to restart kernel each time\n",
    "\n",
    "f1 = gcurve(color=color.cyan)\t# a graphics curve\n",
    "for x in arange(0, 8.05, 0.1):\t# x goes from 0 to 8\n",
    "    f1.plot(pos=(x,5*cos(2*x)*exp(-0.2*x)))\t# plot\n",
    "    \n",
    "f2 = gvbars(delta=0.05, color=color.blue) # a bar curve\n",
    "for x in arange(0, 8.05, 0.1):\t# x goes from 0 to 8\n",
    "    f2.plot(pos=(x,3*cos(2*x)*exp(-0.2*x)))\t# plot"
   ]
  },
  {
   "cell_type": "markdown",
   "metadata": {},
   "source": [
    "VPython is good at making 3D object"
   ]
  },
  {
   "cell_type": "code",
   "execution_count": 2,
   "metadata": {
    "scrolled": true
   },
   "outputs": [],
   "source": [
    "from vpython import *\n",
    "Sue=sphere(pos = vector(-1,0,0), radius=0.5, color=color.green) # make the first sphere at pos\n",
    "Bob=sphere(pos = vector(1,1,0), radius=0.5, color=color.green) # make the second sphere\n",
    "arrow(pos=Sue.pos,axis=Bob.pos-Sue.pos,color=color.red) # make an arrow pointint from Sue to Bob"
   ]
  },
  {
   "cell_type": "markdown",
   "metadata": {},
   "source": [
    "You can even make animations"
   ]
  },
  {
   "cell_type": "code",
   "execution_count": 3,
   "metadata": {},
   "outputs": [
    {
     "data": {
      "text/html": [
       "<div id=\"glowscript\" class=\"glowscript\"></div>"
      ],
      "text/plain": [
       "<IPython.core.display.HTML object>"
      ]
     },
     "metadata": {},
     "output_type": "display_data"
    },
    {
     "data": {
      "application/javascript": [
       "window.__context = { glowscript_container: $(\"#glowscript\").removeAttr(\"id\")}"
      ],
      "text/plain": [
       "<IPython.core.display.Javascript object>"
      ]
     },
     "metadata": {},
     "output_type": "display_data"
    }
   ],
   "source": [
    "from vpython import *\n",
    "scene2 = canvas(title='Ring and Ball',\n",
    "     width=600, height=300,\n",
    "     center=vector(0,1,2), forward=vector(0,-0.5,-1), background=color.cyan) # set the camera\n",
    "# y is pointing up, z is pointing inwards, for the ring, axis is the direction it is pointing\n",
    "Sue=ring(pos = vector(0,0,0), axis=vector(0,1,0), radius=1, thickness=0.3, color=color.green)\n",
    "Bob=sphere(pos = vector(0,5,0), radius=0.5, color=color.cyan)\n",
    "arr=helix(pos=Sue.pos,axis=Bob.pos-Sue.pos,radius=0.5,color=color.red) # plot the helix\n",
    "\n",
    "r = Bob.pos\n",
    "while r.y > -5.:\n",
    "    rate(10)   # slow down the animation\n",
    "    Bob.pos = r\n",
    "    c=Bob.pos - Sue.pos\n",
    "    arr.axis = c  # update the helix length\n",
    "    r.y = r.y - 0.1 # update Bob the sphere's position"
   ]
  },
  {
   "cell_type": "markdown",
   "metadata": {},
   "source": [
    "## 2.2 Matplotlib\n",
    "\n",
    "Powerful plotting package. Most commonly used python plotting tool. Has similar commands as MATLAB. Uses the NumPy array objects to store the data to plot. Different from VPython which adds points one by one. "
   ]
  },
  {
   "cell_type": "code",
   "execution_count": 3,
   "metadata": {},
   "outputs": [
    {
     "name": "stdout",
     "output_type": "stream",
     "text": [
      "arange => x[0], x[1],x[499]=   -5.00    -4.98     4.98\n",
      "arange => y[0], y[1],y[499]=   -0.13    -0.31     0.31\n",
      "\n",
      " Now doing the plotting thing, look for Figure 1 on desktop\n"
     ]
    },
    {
     "data": {
      "image/png": "[encoded data removed]",
      "text/plain": [
       "<Figure size 432x288 with 1 Axes>"
      ]
     },
     "metadata": {
      "needs_background": "light"
     },
     "output_type": "display_data"
    }
   ],
   "source": [
    "\"\"\" From \"COMPUTATIONAL PHYSICS\", 3rd Ed, Enlarged Python eTextBook  \n",
    "    by RH Landau, MJ Paez, and CC Bordeianu\n",
    "    Copyright Wiley-VCH Verlag GmbH & Co. KGaA, Berlin;  Copyright R Landau,\n",
    "    Oregon State Unv, MJ Paez, Univ Antioquia, C Bordeianu, Univ Bucharest, 2015.\n",
    "    Support by National Science Foundation\"\"\"                                                       \n",
    "\n",
    "# EasyMatPlot.py:                 Simple use of matplotlib's plot command \n",
    "from pylab import *           # Load Matplotlib\n",
    "\n",
    "Xmin = -5.0;        Xmax = +5.0;      Npoints= 500\n",
    "DelX= (Xmax-Xmin)/Npoints                                      # Delta x\n",
    "x = arange(Xmin, Xmax, DelX)      # Form x array in range with increment \n",
    "y =  sin(x)*sin(x*x)              # y array = function of x array\n",
    "\n",
    "print ('arange => x[0], x[1],x[499]=%8.2f %8.2f %8.2f' %(x[0],x[1],x[499]))\n",
    "print ('arange => y[0], y[1],y[499]=%8.2f %8.2f %8.2f' %(y[0],y[1],y[499]))\n",
    "print (\"\\n Now doing the plotting thing, look for Figure 1 on desktop\" )                                                                                       \n",
    "xlabel('x');      ylabel('f(x)');     title(' f(x) vs x')        # labels\n",
    "text(-1.85,  0.75, 'MatPlotLib Example')                     # Text on plot\n",
    "plot(x, y, '-', lw=2)                                 # dash means it is a line                     \n",
    "grid(True)                                                    # Form grid\n",
    "show()                                                 # Make screen plot"
   ]
  },
  {
   "cell_type": "code",
   "execution_count": 4,
   "metadata": {},
   "outputs": [
    {
     "data": {
      "image/png": "[encoded data removed]",
      "text/plain": [
       "<Figure size 432x288 with 1 Axes>"
      ]
     },
     "metadata": {
      "needs_background": "light"
     },
     "output_type": "display_data"
    }
   ],
   "source": [
    "x=np.arange(0.,2.*3.14,0.1)\n",
    "y=sin(x)\n",
    "plt.plot(x,y)\n",
    "plt.show()"
   ]
  },
  {
   "cell_type": "code",
   "execution_count": 9,
   "metadata": {},
   "outputs": [
    {
     "data": {
      "image/png": "[encoded data removed]",
      "text/plain": [
       "<Figure size 432x288 with 1 Axes>"
      ]
     },
     "metadata": {
      "needs_background": "light"
     },
     "output_type": "display_data"
    }
   ],
   "source": [
    "# Please make a plot showing y=x, y=x-1./6.*x^3, together with y=sin(x) from -2pi to 2pi. \n",
    "# Please limit the y axis range from -2 to 2. (using plt.ylim(a,b) function where a and b are the starting and ending number on the axis)\n",
    "x=np.arange(-2*np.pi, 2*np.pi, 0.1)\n",
    "y1=x\n",
    "y2=x-1./6.*x**3\n",
    "y3=np.sin(x)\n",
    "plt.plot(x,y1)\n",
    "plt.plot(x,y2)\n",
    "plt.plot(x,y3)\n",
    "plt.ylim(-2,2)\n",
    "plt.legend([\"y=x\", \"y=x-1./6.*x^3\", \"y=sin(x)\"])\n",
    "plt.grid(True)\n",
    "plt.xlabel('Time')\n",
    "plt.show()"
   ]
  },
  {
   "cell_type": "code",
   "execution_count": 15,
   "metadata": {},
   "outputs": [
    {
     "data": {
      "image/png": "[encoded data removed]",
      "text/plain": [
       "<matplotlib.figure.Figure at 0x7ff09a7ea278>"
      ]
     },
     "metadata": {},
     "output_type": "display_data"
    }
   ],
   "source": [
    "\"\"\" From \"COMPUTATIONAL PHYSICS\", 3rd Ed, Enlarged Python eTextBook  \n",
    "    by RH Landau, MJ Paez, and CC Bordeianu\n",
    "    Copyright Wiley-VCH Verlag GmbH & Co. KGaA, Berlin;  Copyright R Landau,\n",
    "    Oregon State Unv, MJ Paez, Univ Antioquia, C Bordeianu, Univ Bucharest, 2015.\n",
    "    Support by National Science Foundation\"\"\"\n",
    "\n",
    "# Grade.py: Using Matplotlib's plot command with multi data sets & curves\n",
    "\n",
    "import pylab as p                           # import Matplotlib label it as p\n",
    "from numpy import *                                 # import numpy library\n",
    "\n",
    "p.title('Grade Inflation')                             # Title and labels\n",
    "p.xlabel('Years in College')\n",
    "p.ylabel('GPA')\n",
    "\n",
    "xa = array([-1, 5])                                 # For horizontal line\n",
    "ya = array([0, 0])                                       # Array of zeros\n",
    "p.plot(xa, ya)                                     # Draw horizontal line\n",
    "                                                   \n",
    "x0 = array([0, 1, 2, 3, 4])                           # Data set 0 points\n",
    "y0 = array([-1.4, +1.1, 2.2, 3.3, 4.0])\n",
    "p.plot(x0, y0, 'bo')                          # Data set 0 = blue circles\n",
    "p.plot(x0, y0, 'g')                                   # Data set 0 = line\n",
    "\n",
    "y1 = array([4.0, 2.7, -1.8, -0.9, 2.6])               # Data set 1 points\n",
    "t = arange(0, 5, 1)\n",
    "p.plot(t, y1, 'r')                                          \n",
    "\n",
    "err1sup = array([1.0, 0.3, 1.2, 0.4, 0.1])        # Asymmetric error bars\n",
    "err1inf = array([2.0, 0.6, 2.3, 1.8, 0.4])                    \n",
    "p.errorbar(t, y1, [err1inf, err1sup], fmt = 'o')        # Plot error bars\n",
    "\n",
    "p.grid(True)                                                  # Grid line\n",
    "p.show()                                          # Create plot on screen"
   ]
  },
  {
   "cell_type": "markdown",
   "metadata": {},
   "source": [
    "It can also plot 3-D data.   \n",
    "Two ways:  \n",
    "1) 3-D surface  \n",
    "2) 2-D color contour"
   ]
  },
  {
   "cell_type": "code",
   "execution_count": 19,
   "metadata": {},
   "outputs": [
    {
     "data": {
      "image/png": "[encoded data removed]",
      "text/plain": [
       "<matplotlib.figure.Figure at 0x7ff09aa69e10>"
      ]
     },
     "metadata": {},
     "output_type": "display_data"
    }
   ],
   "source": [
    "# Plot the potential of a point mass with two methods (two subplots)\n",
    "\n",
    "import matplotlib.pylab  as p                                     \n",
    "from mpl_toolkits.mplot3d import Axes3D        \n",
    "\n",
    "# to make 3-D plot, need Axes3D package from matplot tool kit\n",
    "\n",
    "delta = 0.1\n",
    "x = p.arange( -3., 3., delta )\n",
    "y = p.arange( -3., 3., delta )\n",
    "X, Y = p.meshgrid(x, y)                 # set coordinate grid matrix, X, Y are 2D array\n",
    "smooth = 0.3                            # smoothing length to avoid singularity\n",
    "Z = -1./p.sqrt(X*X+Y*Y+smooth*smooth)                               # Surface height\n",
    "\n",
    "fig = p.figure()                                    # Create figure\n",
    "\n",
    "ax = fig.add_subplot(2,2,1)\n",
    "levels=p.arange(Z.min(),Z.max(),(Z.max() - Z.min())/100.) #contour levels#\n",
    "CS=p.contour(x,y,Z, levels=levels)\n",
    "# CS=p.contourf(x,y,Z, levels=levels)\n",
    "p.xlabel('X')\n",
    "p.ylabel('Y')\n",
    "p.colorbar(CS)\n",
    "\n",
    "ax = fig.add_subplot(2,2,3,projection='3d')          # the 2 by 2, 4 subplots, the first one\n",
    "ax.plot_surface(X, Y, Z)                             # Surface\n",
    "ax.plot_wireframe(X, Y, Z, color = 'r')              # Add wireframe\n",
    "ax.set_xlabel('X')\n",
    "ax.set_ylabel('Y')\n",
    "ax.set_zlabel('Z')\n",
    "\n",
    "\n",
    "p.show()                                             # Output figure"
   ]
  },
  {
   "cell_type": "code",
   "execution_count": 10,
   "metadata": {},
   "outputs": [
    {
     "name": "stdout",
     "output_type": "stream",
     "text": [
      "[-3. -2. -1.  0.  1.  2.] [-2. -1.  0.  1.]\n",
      "[[-3. -2. -1.  0.  1.  2.]\n",
      " [-3. -2. -1.  0.  1.  2.]\n",
      " [-3. -2. -1.  0.  1.  2.]\n",
      " [-3. -2. -1.  0.  1.  2.]]\n"
     ]
    }
   ],
   "source": [
    "delta = 1\n",
    "x = np.arange(-3., 3., delta)\n",
    "y = np.arange(-2., 2., delta)\n",
    "print(x,y)\n",
    "X, Y = np.meshgrid(x,y)\n",
    "print(X)"
   ]
  },
  {
   "cell_type": "code",
   "execution_count": 35,
   "metadata": {},
   "outputs": [
    {
     "name": "stdout",
     "output_type": "stream",
     "text": [
      "(60, 60) (60, 60) (60, 60)\n"
     ]
    }
   ],
   "source": [
    "print(X.shape, Y.shape, Z.shape)"
   ]
  },
  {
   "cell_type": "code",
   "execution_count": 40,
   "metadata": {},
   "outputs": [
    {
     "name": "stdout",
     "output_type": "stream",
     "text": [
      "(60,) (60,) (60, 60)\n"
     ]
    }
   ],
   "source": [
    "print(x.shape,y.shape,Z.shape)"
   ]
  },
  {
   "cell_type": "markdown",
   "metadata": {},
   "source": [
    "# Homework\n",
    "\n",
    "1) Generate a new jupyter notebook file for this homework\n",
    "\n",
    "Write a program to plot\n",
    "\\begin{equation}\n",
    "f(x)=\\pi/2+2*(sin(x)+sin(3x)/3+sin(5x)/5+....sin(nx)/n)\n",
    "\\end{equation}\n",
    "from -$\\pi$ to $\\pi$. Choose n=11, 21 and 31 and plot all these three curves in one figure. Please use numpy library and matplotlib.\n",
    "\n",
    "Then commit this to your github.\n",
    "\n",
    "2) For graduate student\n",
    "\n",
    "Use sympy to integrate $f(x)$ with n=11 to derive the analytical expression after the integration ($g(x)$). And plot m(x)=g(x)-g(x=-$\\pi$) from -$\\pi$ to $\\pi$."
   ]
  },
  {
   "cell_type": "code",
   "execution_count": null,
   "metadata": {},
   "outputs": [],
   "source": []
  }
 ],
 "metadata": {
  "kernelspec": {
   "display_name": "Python 3",
   "language": "python",
   "name": "python3"
  },
  "language_info": {
   "codemirror_mode": {
    "name": "ipython",
    "version": 3
   },
   "file_extension": ".py",
   "mimetype": "text/x-python",
   "name": "python",
   "nbconvert_exporter": "python",
   "pygments_lexer": "ipython3",
   "version": "3.8.5"
  }
 },
 "nbformat": 4,
 "nbformat_minor": 4
}
