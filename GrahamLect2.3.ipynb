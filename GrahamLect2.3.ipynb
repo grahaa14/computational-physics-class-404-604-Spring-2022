{
 "cells": [
  {
   "cell_type": "markdown",
   "metadata": {},
   "source": [
    "# Homework\n",
    "\n",
    "1) Calculate and plot the ratio F(n)/F(n-1) with respect to n using memorization method. \n",
    "\n",
    "2) \n",
    "\n",
    "    a) Use the Recursion method, Tabulation method,  and matrix method to calculate the time spent for different n (e.g. 1, 10, 100, 1000, 10000, … uniform in the log space). (caution: recursion method will break when n>100)\n",
    "\n",
    "    b) For each method, output the time and n into a file\n",
    "       \n",
    "    c) Read from the file and plot log(time) (y-axis) vs. log(n) (x-axis) for different methods. \n",
    "       \n",
    "    d) Discuss the complexity of each method."
   ]
  },
  {
   "cell_type": "code",
   "execution_count": 1,
   "metadata": {},
   "outputs": [],
   "source": [
    "#Problem 1\n",
    "\n",
    "#Memorization method from Lect 3\n",
    "def fib3(n, table): # Store the data we already calculated, linear space and time complexity, but still have the stack limit\n",
    "    if n == 0 or n==1:\n",
    "        table[n]=n\n",
    "    \n",
    "    # if the value has not been calculated, calculate it \n",
    "    if table[n] is None:\n",
    "        table[n] =  fib3(n-1, table) + fib3(n-2, table) \n",
    "        \n",
    "    return table[n]"
   ]
  },
  {
   "cell_type": "code",
   "execution_count": 16,
   "metadata": {},
   "outputs": [
    {
     "data": {
      "image/png": "[encoded data removed]",
      "text/plain": [
       "<Figure size 432x288 with 1 Axes>"
      ]
     },
     "metadata": {
      "needs_background": "light"
     },
     "output_type": "display_data"
    }
   ],
   "source": [
    "import matplotlib.pyplot as plt\n",
    "import numpy as np\n",
    "\n",
    "n = np.arange(2, 40)  #array of n values\n",
    "ratio = []            #empty array to hold F(n)/F(n-1) values\n",
    "\n",
    "#I chose to leave the n values at n=40 so it's still clear to see what happens with the ratio close to 1 \n",
    "# but it also goes long enough that you can see the ratio start to converge.\n",
    "\n",
    "for i in n:\n",
    "    table = [None]*(i+1)\n",
    "    fn = fib3(i, table)    #calculate F(n)\n",
    "    table = [None]*(i+1)\n",
    "    fn1 = fib3(i-1, table) #calculate F(n-1)\n",
    "    ratio = np.append(ratio, fn/fn1) #append ratio \n",
    "\n",
    "plt.plot(n, ratio)\n",
    "plt.xlabel(\"n\")\n",
    "plt.ylabel(\"F(n)/F(n-1)\")\n",
    "plt.show()"
   ]
  },
  {
   "cell_type": "code",
   "execution_count": 38,
   "metadata": {},
   "outputs": [],
   "source": [
    "#Problem 2\n",
    "\n",
    "import numpy as np\n",
    "\n",
    "#Recursion Method from Lecture 3\n",
    "# Recursion method fib2, \n",
    "def fib2(n):      # extremely simple, but exponentially running time, very slow for large n, n cannot too large (stack limit)\n",
    "    if n == 0: return 0\n",
    "    elif n == 1: return 1\n",
    "    else: return fib2(n-1)+fib2(n-2)\n",
    "\n",
    "#Memorization method from Lect 3\n",
    "def fib3(n, table): # Store the data we already calculated, linear space and time complexity, but still have the stack limit\n",
    "    if n == 0 or n==1:\n",
    "        table[n]=n\n",
    "    \n",
    "    # if the value has not been calculated, calculate it \n",
    "    if table[n] is None:\n",
    "        table[n] =  fib3(n-1, table) + fib3(n-2, table) \n",
    "        \n",
    "    return table[n]\n",
    "\n",
    "#Tabulation Method from Lecture 3\n",
    "def fib4(n):\n",
    "    table=[0]*(n+1)\n",
    "    table[1] = 1\n",
    "       \n",
    "    # try this: please finish the following two lines calcuating table[i] from table[i-1] and table[i-2]\n",
    "    for i in range(2, n+1):\n",
    "        table[i]=  table[i-1] + table[i-2]\n",
    "        \n",
    "    return table[n]\n",
    "\n",
    "#Write to file\n",
    "def writeFile(name, n, time):\n",
    "    f = open(name, \"w\")\n",
    "    for i in range(len(n)):\n",
    "        f.write(str(n[i]))\n",
    "        f.write(\"\\t\")\n",
    "        f.write(str(time[i]))\n",
    "        f.write(\"\\n\")\n",
    "    f.close()\n",
    "    return\n",
    "\n",
    "#Read in n and time data files\n",
    "def readFile(name):\n",
    "    f = open(name, \"r\")\n",
    "    n = []\n",
    "    times = []\n",
    "    for line in f:\n",
    "        line = line.strip() \n",
    "        columns = line.split()\n",
    "        n = np.append(n, float(columns[0]))\n",
    "        times = np.append(times, float(columns[1]))\n",
    "    return n, times\n",
    "\n"
   ]
  },
  {
   "cell_type": "code",
   "execution_count": 41,
   "metadata": {},
   "outputs": [],
   "source": [
    "import time\n",
    "n_r = [1, 5, 10, 50] #only doing these values so we're still uniform in log space but recursion will break if n>100\n",
    "#n_r = [1, 5, 10]\n",
    "times_r = []         #empty array to hold time values\n",
    "for i in n_r:\n",
    "    start_time = time.time()\n",
    "    fib2(i)\n",
    "    times_r = np.append(times_r, time.time() - start_time)\n",
    "    \n",
    "writeFile(\"recData.txt\", n_r, times_r)\n",
    "\n",
    "n_m = [1, 10, 100, 1000] #not sure if this will break for 10,000 -- it did\n",
    "times_m = []         #empty array to hold time values\n",
    "for i in n_m:\n",
    "    table = [None]*(i+1)\n",
    "    start_time = time.time()\n",
    "    fib3(i, table)\n",
    "    times_m = np.append(times_m, time.time() - start_time)\n",
    "\n",
    "writeFile(\"memData.txt\", n_m, times_m)\n",
    "\n",
    "n_t = [1, 10, 100, 1000, 10000]\n",
    "times_t = []         #empty array to hold time values\n",
    "for i in n_t:\n",
    "    start_time = time.time()\n",
    "    fib4(i)\n",
    "    times_t = np.append(times_t, time.time() - start_time)\n",
    "\n",
    "writeFile(\"tabData.txt\", n_t, times_t)"
   ]
  },
  {
   "cell_type": "code",
   "execution_count": 42,
   "metadata": {},
   "outputs": [
    {
     "data": {
      "image/png": "[encoded data removed]",
      "text/plain": [
       "<Figure size 432x288 with 1 Axes>"
      ]
     },
     "metadata": {
      "needs_background": "light"
     },
     "output_type": "display_data"
    }
   ],
   "source": [
    "#Read in data files and plot log(time) vs log(n)\n",
    "import matplotlib.pyplot as plt\n",
    "import numpy as np\n",
    "\n",
    "files = [\"recData.txt\", \"memData.txt\", \"tabData.txt\"]\n",
    "\n",
    "plt.figure()\n",
    "for i in files:\n",
    "    this_n, this_time = readFile(i)\n",
    "    for j in range(len(this_time)):\n",
    "        if this_time[j] == 0.:\n",
    "            this_time[j] = 0.0000001 #many of our times register as 0 which will throw an error when we try to take log\n",
    "    plt.plot(np.log10(this_n), np.log10(this_time))\n",
    "plt.xlabel(\"log(n)\")\n",
    "plt.ylabel(\"log(time)\")\n",
    "plt.legend([\"Recursion\", \"Memorization\", \"Tabulation\"])\n",
    "plt.show()"
   ]
  },
  {
   "cell_type": "markdown",
   "metadata": {},
   "source": [
    "The complexity of the recursion method can be represented by O(2^n) because the time this method requires increases exponentially. The complexity of the memorization method I think is more like O(log n) because it seems to be starting to flatten in how much time it takes relative to n. The complexity of the tabulation method is unlcear in this plot. I don't know what's happening with it.  "
   ]
  }
 ],
 "metadata": {
  "kernelspec": {
   "display_name": "Python 3",
   "language": "python",
   "name": "python3"
  },
  "language_info": {
   "codemirror_mode": {
    "name": "ipython",
    "version": 3
   },
   "file_extension": ".py",
   "mimetype": "text/x-python",
   "name": "python",
   "nbconvert_exporter": "python",
   "pygments_lexer": "ipython3",
   "version": "3.8.5"
  }
 },
 "nbformat": 4,
 "nbformat_minor": 4
}
