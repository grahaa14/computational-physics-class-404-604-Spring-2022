{
 "cells": [
  {
   "cell_type": "markdown",
   "metadata": {},
   "source": [
    "# midterm project\n",
    "\n",
    "1.\n",
    "\n",
    "Find all the real roots of\n",
    "\\begin{equation}\n",
    "0.1*x^3+x^2+x-3=0\n",
    "\\end{equation}\n",
    "using 1) bisection, and 2) Newton-Raphson methods."
   ]
  },
  {
   "cell_type": "code",
   "execution_count": null,
   "metadata": {},
   "outputs": [
    {
     "data": {
      "image/png": "[encoded data removed]",
      "text/plain": [
       "<Figure size 432x288 with 1 Axes>"
      ]
     },
     "metadata": {
      "needs_background": "light"
     },
     "output_type": "display_data"
    }
   ],
   "source": [
    "# Always a good idea to draw the function first \n",
    "import matplotlib.pyplot as plt\n",
    "import numpy as np\n",
    "\n",
    "x = np.arange(-5, 5, 0.1)\n",
    "y = 0.1*x**3 + x**2 + x - 3\n",
    "\n",
    "plt.plot(x,y)\n",
    "zero = np.zeros(len(x))\n",
    "plt.plot(x,zero)\n",
    "plt.show()"
   ]
  },
  {
   "cell_type": "code",
   "execution_count": 5,
   "metadata": {},
   "outputs": [
    {
     "name": "stdout",
     "output_type": "stream",
     "text": [
      "Root 1 is:  -2.868717484176159\n",
      "Root 2 is:  1.2480301521718502\n"
     ]
    }
   ],
   "source": [
    "#Based on the plot above it looks like our roots should be around -3 and 1\n",
    "\n",
    "# Bisection method\n",
    "\n",
    "#function from Lect5 altered for our equation\n",
    "def bisection(xmin,xmax, Nmax, eps,f): \n",
    "    #xmin is the left bound and xmax is the right bound, Nmax is the iteration limit, eps is the error, and f is the function\n",
    "    for i in range(0,Nmax):\n",
    "        x=(xmin+xmax)/2.\n",
    "        if(f(xmin)*f(x)>0):\n",
    "                xmin = x\n",
    "        else:\n",
    "                xmax = x\n",
    "        if(abs(f(x))<eps):\n",
    "            break\n",
    "    return x\n",
    "\n",
    "def f(x):\n",
    "    return 0.1*x**3 + x**2 + x - 3\n",
    "\n",
    "eps = 1.e-8\n",
    "a=-4\n",
    "b=2\n",
    "nmax=100\n",
    "\n",
    "#Get first root (the one near -3)\n",
    "root1 = bisection(a, b, nmax, eps, f)\n",
    "print(\"Root 1 is: \", root1)\n",
    "\n",
    "#Get second root (the one near 1)\n",
    "a = 0\n",
    "b = 2\n",
    "root2 = bisection(a, b, nmax, eps, f)\n",
    "print(\"Root 2 is: \", root2)\n"
   ]
  },
  {
   "cell_type": "code",
   "execution_count": 8,
   "metadata": {},
   "outputs": [
    {
     "name": "stdout",
     "output_type": "stream",
     "text": [
      "First root is:  -2.8687174884887923\n",
      "Second root is:  1.248030151899148\n"
     ]
    }
   ],
   "source": [
    "# Newton-Raphson method\n",
    "\n",
    "def f(x):\n",
    "    return 0.1*x**3 + x**2 + x - 3\n",
    "\n",
    "#newton-raphson method function from Lect5\n",
    "def newtonraphson(x0,dx, Nmax, eps,f): \n",
    "    # update x0 for Nmax times until reaching eps; dx is used in the central difference scheme to calculate the derivative \n",
    "    for i in range(0,Nmax):\n",
    "        df =  (f(x0 + dx/2) - f(x0 - dx/2)) / dx # using central difference to calculate the derivative\n",
    "        x0 =  x0 - (f(x0) / df) \n",
    "        if(abs(f(x0))<eps):\n",
    "            break\n",
    "    return x0\n",
    "\n",
    "eps = 1.e-8\n",
    "dx=1.e-6\n",
    "a=-3.\n",
    "nmax=100\n",
    "\n",
    "#First root\n",
    "root1 = newtonraphson(a, dx, nmax, eps, f)\n",
    "print(\"First root is: \", root1)\n",
    "\n",
    "#Second root\n",
    "a = 1\n",
    "root2 = newtonraphson(a, dx, nmax, eps, f)\n",
    "print(\"Second root is: \", root2)\n"
   ]
  },
  {
   "cell_type": "markdown",
   "metadata": {},
   "source": [
    "**Problem 2**\n",
    "\n",
    "a) Please use forward Euler and Central difference methods to calculate\n",
    "\\begin{equation}\n",
    "\\frac{d ln(x)}{dx}\n",
    "\\end{equation}\n",
    "at x=10, using a step size of 0.01.\n",
    "\n",
    "b) Please compare your results with the analytical solution at x=10. What is the relative error of each method?\n",
    "\n",
    "c) Please use any numerical method to calculate\n",
    "\\begin{equation}\n",
    "\\frac{d^2 ln(x)}{dx^2}\n",
    "\\end{equation}\n",
    "at x=10, using a step size of 0.01."
   ]
  },
  {
   "cell_type": "code",
   "execution_count": 25,
   "metadata": {},
   "outputs": [
    {
     "name": "stdout",
     "output_type": "stream",
     "text": [
      "Part A\n",
      "Euler method:  [0.0, 0.02302585092994046]\n",
      "Central difference:  0.10000000833332301\n",
      "Part B\n",
      "Analytical result:  0.1\n",
      "Relative errors:\n",
      "\t Euler method:  0.07697414907005955\n",
      "\t Central Difference method:  -8.333323003872906e-09\n",
      "Part C\n",
      "Second derivative:  -0.010000005001842283\n"
     ]
    }
   ],
   "source": [
    "# Part A\n",
    "print(\"Part A\")\n",
    "\n",
    "import numpy as np\n",
    "import matplotlib.pyplot as plt\n",
    "\n",
    "def f(t, y):\n",
    "    f = np.zeros(2)\n",
    "    f[0] = y[1]\n",
    "    f[1] = np.log(t)\n",
    "    return f\n",
    "\n",
    "#Euler method\n",
    "\n",
    "#Euler function from Lecture 7\n",
    "def eu(t, h, y): \n",
    "    #push the solution to advance one h, n is the number of variables\n",
    "    ef = f(t, y)\n",
    "    for i in range(2):\n",
    "        y[i] = y[i] + h*ef[i]\n",
    "    return y\n",
    "\n",
    "x = 10\n",
    "dx = 0.01\n",
    "y = [0.,0.]\n",
    "\n",
    "em = eu(x, dx, y)\n",
    "print(\"Euler method: \", em)\n",
    "\n",
    "\n",
    "#Central Difference method\n",
    "\n",
    "#central difference function from Lecture 4\n",
    "def dericd(y,x,dx):\n",
    "    return (y(x+dx/2)-y(x-dx/2))/dx\n",
    "\n",
    "cdm = dericd(np.log, x, dx)\n",
    "print(\"Central difference: \", cdm)\n",
    "\n",
    "#Part B - Relative Errors\n",
    "print(\"Part B\")\n",
    "real = 1/10\n",
    "print(\"Analytical result: \", real)\n",
    "\n",
    "print(\"Relative errors:\")\n",
    "print(\"\\t Euler method: \", real-em[1])\n",
    "print(\"\\t Central Difference method: \", real-cdm)\n",
    "\n",
    "#Part C - Second Derivative\n",
    "print(\"Part C\")\n",
    "\n",
    "#second derivative using central difference function from Lecture 4\n",
    "def dersecond2(y,x,dx):\n",
    "        return (y(x+dx)+y(x-dx)-2*y(x))/dx**2\n",
    "    \n",
    "scdm = dersecond2(np.log, 10., 0.01)\n",
    "print(\"Second derivative: \", scdm)\n"
   ]
  },
  {
   "cell_type": "markdown",
   "metadata": {},
   "source": [
    "**Problem 3.**\n",
    "\n",
    "Please use the RK4 method to solve\n",
    "\\begin{equation}\n",
    "\\frac{d^2y}{dx^2}+y*\\frac{dy}{dx}+3*y=sin(x)\n",
    "\\end{equation}\n",
    "with the initial condition y(x=0)=-1, y'(x=0)=1."
   ]
  },
  {
   "cell_type": "code",
   "execution_count": 28,
   "metadata": {},
   "outputs": [
    {
     "data": {
      "image/png": "[encoded data removed]",
      "text/plain": [
       "<Figure size 432x288 with 1 Axes>"
      ]
     },
     "metadata": {
      "needs_background": "light"
     },
     "output_type": "display_data"
    }
   ],
   "source": [
    "#Problem 3\n",
    "import numpy as np\n",
    "import matplotlib.pyplot as plt\n",
    "\n",
    "#RK4 method function from Lecture 7\n",
    "def rk4(t, h, y, n):\n",
    "    k1 = np.zeros(n)\n",
    "    k2 = np.zeros(n)\n",
    "    k3 = np.zeros(n)\n",
    "    k4 = np.zeros(n)\n",
    "    k1=h*f(t,y)\n",
    "    k2=h*f(t+0.5*h,y+0.5*k1)\n",
    "    k3=h*f(t+0.5*h,y+0.5*k2)\n",
    "    k4=h*f(t+h,y+k3)\n",
    "    y+=(1/6)*(k1+2*k2+2*k3+k4)\n",
    "    return y\n",
    "\n",
    "def f(t, y):\n",
    "    f=np.zeros(2)\n",
    "    f[0]=y[1]\n",
    "    f[1]=np.sin(t)-3*y[0]-y[0]*y[1]\n",
    "    return f\n",
    "\n",
    "#Initial conditions\n",
    "y=[-1., 1.]\n",
    "tend=100.\n",
    "h=0.01\n",
    "t=0\n",
    "\n",
    "xp=np.arange(t, tend, h)\n",
    "yp=[]\n",
    "while(t<tend):\n",
    "    if((t+h)>tend):\n",
    "        h=tend-t\n",
    "    y = rk4(t,h,y,2)\n",
    "    yp=np.append(yp,y[0])\n",
    "    t = t+h\n",
    "\n",
    "plt.plot(xp,yp)\n",
    "plt.ylabel(\"y position\")\n",
    "plt.xlabel(\"x position\")\n",
    "plt.title(\"y(x)\")\n",
    "plt.show()\n"
   ]
  },
  {
   "cell_type": "code",
   "execution_count": null,
   "metadata": {},
   "outputs": [],
   "source": []
  }
 ],
 "metadata": {
  "kernelspec": {
   "display_name": "Python 3",
   "language": "python",
   "name": "python3"
  },
  "language_info": {
   "codemirror_mode": {
    "name": "ipython",
    "version": 3
   },
   "file_extension": ".py",
   "mimetype": "text/x-python",
   "name": "python",
   "nbconvert_exporter": "python",
   "pygments_lexer": "ipython3",
   "version": "3.8.5"
  }
 },
 "nbformat": 4,
 "nbformat_minor": 4
}
